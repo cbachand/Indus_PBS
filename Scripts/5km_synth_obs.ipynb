{
 "cells": [
  {
   "cell_type": "code",
   "execution_count": 1,
   "metadata": {},
   "outputs": [],
   "source": [
    "import scipy\n",
    "import xarray as xr\n",
    "import numpy as np\n",
    "import matplotlib.pyplot as plt \n",
    "import scipy\n",
    "import math\n",
    "import matplotlib.patches as patches\n",
    "import pylab\n",
    "import shapely.geometry as geometry\n",
    "import pylab as plt\n",
    "from matplotlib.path import Path\n",
    "import scipy.stats"
   ]
  },
  {
   "cell_type": "code",
   "execution_count": 2,
   "metadata": {},
   "outputs": [],
   "source": [
    "import geopandas as gpd\n",
    "from matplotlib.path import Path\n"
   ]
  },
  {
   "cell_type": "code",
   "execution_count": 3,
   "metadata": {},
   "outputs": [],
   "source": [
    "from shapely.geometry import Polygon, Point, MultiPolygon\n",
    "import shapefile\n",
    "from matplotlib.path import Path"
   ]
  },
  {
   "cell_type": "markdown",
   "metadata": {},
   "source": [
    "Loading in \"Truth\" model run"
   ]
  },
  {
   "cell_type": "code",
   "execution_count": 4,
   "metadata": {},
   "outputs": [],
   "source": [
    "era5 = xr.open_dataset('5km_truth.nc')"
   ]
  },
  {
   "cell_type": "markdown",
   "metadata": {},
   "source": [
    "Creating mask for the Indus basin"
   ]
  },
  {
   "cell_type": "code",
   "execution_count": 5,
   "metadata": {},
   "outputs": [
    {
     "data": {
      "image/png": "[encoded data removed]",
      "text/plain": [
       "<Figure size 432x288 with 1 Axes>"
      ]
     },
     "metadata": {
      "needs_background": "light"
     },
     "output_type": "display_data"
    }
   ],
   "source": [
    "polygon = shapefile.Reader(\"../files_for_pbs/basins_hma/basins_hma.shp\")\n",
    "polygon = polygon.shapes()\n",
    "indus = polygon[4]\n",
    "listx = []\n",
    "listy = []\n",
    "for xNew,yNew in indus.points:\n",
    "    listx.append(xNew)\n",
    "    listy.append(yNew)\n",
    "plt.plot(listx,listy)\n",
    "plt.show()\n",
    "listx = np.array(listx).reshape([837, 1])\n",
    "listy = np.array(listy).reshape([837, 1])\n",
    "coords = np.hstack([listx, listy])\n",
    "pp = coords.tolist()\n",
    "poly_path = Path(pp)"
   ]
  },
  {
   "cell_type": "code",
   "execution_count": 6,
   "metadata": {},
   "outputs": [],
   "source": [
    "listx = np.array(listx).reshape([837, 1])\n",
    "listy = np.array(listy).reshape([837, 1])\n",
    "coords = np.hstack([listx, listy])\n",
    "pp = coords.tolist()\n",
    "poly_path = Path(pp)"
   ]
  },
  {
   "cell_type": "code",
   "execution_count": 7,
   "metadata": {},
   "outputs": [],
   "source": [
    "lon = era5.east_west\n",
    "lat = era5.north_south"
   ]
  },
  {
   "cell_type": "code",
   "execution_count": 8,
   "metadata": {},
   "outputs": [],
   "source": [
    "lon = era5.east_west\n",
    "lat = era5.north_south\n",
    "x, y = np.meshgrid(lon, lat)\n",
    "coors_grid = np.hstack((x.reshape(-1, 1), y.reshape(-1, 1)))\n",
    "era5_mask = poly_path.contains_points(coors_grid)\n",
    "era5_mask = era5_mask.reshape(len(lat), len(lon))"
   ]
  },
  {
   "cell_type": "markdown",
   "metadata": {},
   "source": [
    "Reading in the sentinel data. Wet snow mask is not applied."
   ]
  },
  {
   "cell_type": "code",
   "execution_count": 10,
   "metadata": {},
   "outputs": [],
   "source": [
    "sentinel = xr.open_dataset('../files_for_pbs/sentinel_indus2018.nc')\n",
    "#to_mask = sentinel.wet != 1\n",
    "#sentinel_masked =sentinel.where(to_mask)"
   ]
  },
  {
   "cell_type": "code",
   "execution_count": 18,
   "metadata": {},
   "outputs": [
    {
     "data": {
      "text/plain": [
       "<matplotlib.collections.PathCollection at 0x2ba3ba68b700>"
      ]
     },
     "execution_count": 18,
     "metadata": {},
     "output_type": "execute_result"
    },
    {
     "data": {
      "image/png": "[encoded data removed]",
      "text/plain": [
       "<Figure size 432x288 with 1 Axes>"
      ]
     },
     "metadata": {
      "needs_background": "light"
     },
     "output_type": "display_data"
    }
   ],
   "source": [
    "plt.scatter(sentinel.time.values.flatten(), sentinel.snd.count(['lon', 'lat']).values.flatten(), alpha = 0.1)"
   ]
  },
  {
   "cell_type": "code",
   "execution_count": 19,
   "metadata": {},
   "outputs": [
    {
     "data": {
      "text/plain": [
       "array(['2017-10-01T00:00:00.000000000', '2017-10-02T00:00:00.000000000',\n",
       "       '2017-10-03T00:00:00.000000000', '2017-10-04T00:00:00.000000000',\n",
       "       '2017-10-05T00:00:00.000000000', '2017-10-06T00:00:00.000000000',\n",
       "       '2017-10-07T00:00:00.000000000', '2017-10-08T00:00:00.000000000',\n",
       "       '2017-10-09T00:00:00.000000000', '2017-10-10T00:00:00.000000000',\n",
       "       '2017-10-11T00:00:00.000000000', '2017-10-12T00:00:00.000000000',\n",
       "       '2017-10-13T00:00:00.000000000', '2017-10-14T00:00:00.000000000',\n",
       "       '2017-10-15T00:00:00.000000000', '2017-10-16T00:00:00.000000000',\n",
       "       '2017-10-17T00:00:00.000000000', '2017-10-18T00:00:00.000000000',\n",
       "       '2017-10-19T00:00:00.000000000', '2017-10-20T00:00:00.000000000',\n",
       "       '2017-10-21T00:00:00.000000000', '2017-10-22T00:00:00.000000000',\n",
       "       '2017-10-23T00:00:00.000000000', '2017-10-24T00:00:00.000000000',\n",
       "       '2017-10-25T00:00:00.000000000', '2017-10-26T00:00:00.000000000',\n",
       "       '2017-10-27T00:00:00.000000000', '2017-10-28T00:00:00.000000000',\n",
       "       '2017-10-29T00:00:00.000000000', '2017-10-30T00:00:00.000000000',\n",
       "       '2017-10-31T00:00:00.000000000', '2017-11-01T00:00:00.000000000',\n",
       "       '2017-11-02T00:00:00.000000000', '2017-11-03T00:00:00.000000000',\n",
       "       '2017-11-04T00:00:00.000000000', '2017-11-05T00:00:00.000000000',\n",
       "       '2017-11-06T00:00:00.000000000', '2017-11-07T00:00:00.000000000',\n",
       "       '2017-11-08T00:00:00.000000000', '2017-11-09T00:00:00.000000000',\n",
       "       '2017-11-10T00:00:00.000000000', '2017-11-11T00:00:00.000000000',\n",
       "       '2017-11-12T00:00:00.000000000', '2017-11-13T00:00:00.000000000',\n",
       "       '2017-11-14T00:00:00.000000000', '2017-11-15T00:00:00.000000000',\n",
       "       '2017-11-16T00:00:00.000000000', '2017-11-17T00:00:00.000000000',\n",
       "       '2017-11-18T00:00:00.000000000', '2017-11-19T00:00:00.000000000',\n",
       "       '2017-11-20T00:00:00.000000000', '2017-11-21T00:00:00.000000000',\n",
       "       '2017-11-22T00:00:00.000000000', '2017-11-23T00:00:00.000000000',\n",
       "       '2017-11-24T00:00:00.000000000', '2017-11-25T00:00:00.000000000',\n",
       "       '2017-11-26T00:00:00.000000000', '2017-11-27T00:00:00.000000000',\n",
       "       '2017-11-28T00:00:00.000000000', '2017-11-29T00:00:00.000000000',\n",
       "       '2017-11-30T00:00:00.000000000', '2017-12-01T00:00:00.000000000',\n",
       "       '2017-12-02T00:00:00.000000000', '2017-12-03T00:00:00.000000000',\n",
       "       '2017-12-04T00:00:00.000000000', '2017-12-05T00:00:00.000000000',\n",
       "       '2017-12-06T00:00:00.000000000', '2017-12-07T00:00:00.000000000',\n",
       "       '2017-12-08T00:00:00.000000000', '2017-12-09T00:00:00.000000000',\n",
       "       '2017-12-10T00:00:00.000000000', '2017-12-11T00:00:00.000000000',\n",
       "       '2017-12-12T00:00:00.000000000', '2017-12-13T00:00:00.000000000',\n",
       "       '2017-12-14T00:00:00.000000000', '2017-12-15T00:00:00.000000000',\n",
       "       '2017-12-16T00:00:00.000000000', '2017-12-17T00:00:00.000000000',\n",
       "       '2017-12-18T00:00:00.000000000', '2017-12-19T00:00:00.000000000',\n",
       "       '2017-12-20T00:00:00.000000000', '2017-12-21T00:00:00.000000000',\n",
       "       '2017-12-22T00:00:00.000000000', '2017-12-23T00:00:00.000000000',\n",
       "       '2017-12-24T00:00:00.000000000', '2017-12-25T00:00:00.000000000',\n",
       "       '2017-12-26T00:00:00.000000000', '2017-12-27T00:00:00.000000000',\n",
       "       '2017-12-28T00:00:00.000000000', '2017-12-29T00:00:00.000000000',\n",
       "       '2017-12-30T00:00:00.000000000', '2017-12-31T00:00:00.000000000',\n",
       "       '2018-01-01T00:00:00.000000000', '2018-01-02T00:00:00.000000000',\n",
       "       '2018-01-03T00:00:00.000000000', '2018-01-04T00:00:00.000000000',\n",
       "       '2018-01-05T00:00:00.000000000', '2018-01-06T00:00:00.000000000',\n",
       "       '2018-01-07T00:00:00.000000000', '2018-01-08T00:00:00.000000000',\n",
       "       '2018-01-09T00:00:00.000000000', '2018-01-10T00:00:00.000000000',\n",
       "       '2018-01-11T00:00:00.000000000', '2018-01-12T00:00:00.000000000',\n",
       "       '2018-01-13T00:00:00.000000000', '2018-01-14T00:00:00.000000000',\n",
       "       '2018-01-15T00:00:00.000000000', '2018-01-16T00:00:00.000000000',\n",
       "       '2018-01-17T00:00:00.000000000', '2018-01-18T00:00:00.000000000',\n",
       "       '2018-01-19T00:00:00.000000000', '2018-01-20T00:00:00.000000000',\n",
       "       '2018-01-21T00:00:00.000000000', '2018-01-22T00:00:00.000000000',\n",
       "       '2018-01-23T00:00:00.000000000', '2018-01-24T00:00:00.000000000',\n",
       "       '2018-01-25T00:00:00.000000000', '2018-01-26T00:00:00.000000000',\n",
       "       '2018-01-27T00:00:00.000000000', '2018-01-28T00:00:00.000000000',\n",
       "       '2018-01-29T00:00:00.000000000', '2018-01-30T00:00:00.000000000',\n",
       "       '2018-01-31T00:00:00.000000000', '2018-02-01T00:00:00.000000000',\n",
       "       '2018-02-02T00:00:00.000000000', '2018-02-03T00:00:00.000000000',\n",
       "       '2018-02-04T00:00:00.000000000', '2018-02-05T00:00:00.000000000',\n",
       "       '2018-02-06T00:00:00.000000000', '2018-02-07T00:00:00.000000000',\n",
       "       '2018-02-08T00:00:00.000000000', '2018-02-09T00:00:00.000000000',\n",
       "       '2018-02-10T00:00:00.000000000', '2018-02-11T00:00:00.000000000',\n",
       "       '2018-02-12T00:00:00.000000000', '2018-02-13T00:00:00.000000000',\n",
       "       '2018-02-14T00:00:00.000000000', '2018-02-15T00:00:00.000000000',\n",
       "       '2018-02-16T00:00:00.000000000', '2018-02-17T00:00:00.000000000',\n",
       "       '2018-02-18T00:00:00.000000000', '2018-02-19T00:00:00.000000000',\n",
       "       '2018-02-20T00:00:00.000000000', '2018-02-21T00:00:00.000000000',\n",
       "       '2018-02-22T00:00:00.000000000', '2018-02-23T00:00:00.000000000',\n",
       "       '2018-02-24T00:00:00.000000000', '2018-02-25T00:00:00.000000000',\n",
       "       '2018-02-26T00:00:00.000000000', '2018-02-27T00:00:00.000000000',\n",
       "       '2018-02-28T00:00:00.000000000', '2018-03-01T00:00:00.000000000',\n",
       "       '2018-03-02T00:00:00.000000000', '2018-03-03T00:00:00.000000000',\n",
       "       '2018-03-04T00:00:00.000000000', '2018-03-05T00:00:00.000000000',\n",
       "       '2018-03-06T00:00:00.000000000', '2018-03-07T00:00:00.000000000',\n",
       "       '2018-03-08T00:00:00.000000000', '2018-03-09T00:00:00.000000000',\n",
       "       '2018-03-10T00:00:00.000000000', '2018-03-11T00:00:00.000000000',\n",
       "       '2018-03-12T00:00:00.000000000', '2018-03-13T00:00:00.000000000',\n",
       "       '2018-03-14T00:00:00.000000000', '2018-03-15T00:00:00.000000000',\n",
       "       '2018-03-16T00:00:00.000000000', '2018-03-17T00:00:00.000000000',\n",
       "       '2018-03-18T00:00:00.000000000', '2018-03-19T00:00:00.000000000',\n",
       "       '2018-03-20T00:00:00.000000000', '2018-03-21T00:00:00.000000000',\n",
       "       '2018-03-22T00:00:00.000000000', '2018-03-23T00:00:00.000000000',\n",
       "       '2018-03-24T00:00:00.000000000', '2018-03-25T00:00:00.000000000',\n",
       "       '2018-03-26T00:00:00.000000000', '2018-03-27T00:00:00.000000000',\n",
       "       '2018-03-28T00:00:00.000000000', '2018-03-29T00:00:00.000000000',\n",
       "       '2018-03-30T00:00:00.000000000', '2018-03-31T00:00:00.000000000',\n",
       "       '2018-04-01T00:00:00.000000000', '2018-04-02T00:00:00.000000000',\n",
       "       '2018-04-03T00:00:00.000000000', '2018-04-04T00:00:00.000000000',\n",
       "       '2018-04-05T00:00:00.000000000', '2018-04-06T00:00:00.000000000',\n",
       "       '2018-04-07T00:00:00.000000000', '2018-04-08T00:00:00.000000000',\n",
       "       '2018-04-09T00:00:00.000000000', '2018-04-10T00:00:00.000000000',\n",
       "       '2018-04-11T00:00:00.000000000', '2018-04-12T00:00:00.000000000',\n",
       "       '2018-04-13T00:00:00.000000000', '2018-04-14T00:00:00.000000000',\n",
       "       '2018-04-15T00:00:00.000000000', '2018-04-16T00:00:00.000000000',\n",
       "       '2018-04-17T00:00:00.000000000', '2018-04-18T00:00:00.000000000',\n",
       "       '2018-04-19T00:00:00.000000000', '2018-04-20T00:00:00.000000000',\n",
       "       '2018-04-21T00:00:00.000000000', '2018-04-22T00:00:00.000000000',\n",
       "       '2018-04-23T00:00:00.000000000', '2018-04-24T00:00:00.000000000',\n",
       "       '2018-04-25T00:00:00.000000000', '2018-04-26T00:00:00.000000000',\n",
       "       '2018-04-27T00:00:00.000000000', '2018-04-28T00:00:00.000000000',\n",
       "       '2018-04-29T00:00:00.000000000', '2018-04-30T00:00:00.000000000',\n",
       "       '2018-08-01T00:00:00.000000000', '2018-08-02T00:00:00.000000000',\n",
       "       '2018-08-03T00:00:00.000000000', '2018-08-04T00:00:00.000000000',\n",
       "       '2018-08-05T00:00:00.000000000', '2018-08-06T00:00:00.000000000',\n",
       "       '2018-08-07T00:00:00.000000000', '2018-08-08T00:00:00.000000000',\n",
       "       '2018-08-09T00:00:00.000000000', '2018-08-10T00:00:00.000000000',\n",
       "       '2018-08-11T00:00:00.000000000', '2018-08-12T00:00:00.000000000',\n",
       "       '2018-08-13T00:00:00.000000000', '2018-08-14T00:00:00.000000000',\n",
       "       '2018-08-15T00:00:00.000000000', '2018-08-16T00:00:00.000000000',\n",
       "       '2018-08-17T00:00:00.000000000', '2018-08-18T00:00:00.000000000',\n",
       "       '2018-08-19T00:00:00.000000000', '2018-08-20T00:00:00.000000000',\n",
       "       '2018-08-21T00:00:00.000000000', '2018-08-22T00:00:00.000000000',\n",
       "       '2018-08-23T00:00:00.000000000', '2018-08-24T00:00:00.000000000',\n",
       "       '2018-08-25T00:00:00.000000000', '2018-08-26T00:00:00.000000000',\n",
       "       '2018-08-27T00:00:00.000000000', '2018-08-28T00:00:00.000000000',\n",
       "       '2018-08-29T00:00:00.000000000', '2018-08-30T00:00:00.000000000',\n",
       "       '2018-08-31T00:00:00.000000000', '2018-09-01T00:00:00.000000000',\n",
       "       '2018-09-02T00:00:00.000000000', '2018-09-03T00:00:00.000000000',\n",
       "       '2018-09-04T00:00:00.000000000', '2018-09-05T00:00:00.000000000',\n",
       "       '2018-09-06T00:00:00.000000000', '2018-09-07T00:00:00.000000000',\n",
       "       '2018-09-08T00:00:00.000000000', '2018-09-09T00:00:00.000000000',\n",
       "       '2018-09-10T00:00:00.000000000', '2018-09-11T00:00:00.000000000',\n",
       "       '2018-09-12T00:00:00.000000000', '2018-09-13T00:00:00.000000000',\n",
       "       '2018-09-14T00:00:00.000000000', '2018-09-15T00:00:00.000000000',\n",
       "       '2018-09-16T00:00:00.000000000', '2018-09-17T00:00:00.000000000',\n",
       "       '2018-09-18T00:00:00.000000000', '2018-09-19T00:00:00.000000000',\n",
       "       '2018-09-20T00:00:00.000000000', '2018-09-21T00:00:00.000000000',\n",
       "       '2018-09-22T00:00:00.000000000', '2018-09-23T00:00:00.000000000',\n",
       "       '2018-09-24T00:00:00.000000000', '2018-09-25T00:00:00.000000000',\n",
       "       '2018-09-26T00:00:00.000000000', '2018-09-27T00:00:00.000000000',\n",
       "       '2018-09-28T00:00:00.000000000', '2018-09-29T00:00:00.000000000',\n",
       "       '2018-09-30T00:00:00.000000000'], dtype='datetime64[ns]')"
      ]
     },
     "execution_count": 19,
     "metadata": {},
     "output_type": "execute_result"
    }
   ],
   "source": [
    "sent_time"
   ]
  },
  {
   "cell_type": "markdown",
   "metadata": {},
   "source": [
    "Changing WY2018 days to WY2017. Actual WY2017 S1 data is very sparse, which is why WY2018 dictates the frequency of synthetic observations"
   ]
  },
  {
   "cell_type": "code",
   "execution_count": 15,
   "metadata": {},
   "outputs": [],
   "source": [
    "sent_time = sentinel.time.values\n",
    "delta = np.timedelta64(365, \"D\")\n",
    "sent_time2017 = sent_time -delta"
   ]
  },
  {
   "cell_type": "code",
   "execution_count": 17,
   "metadata": {},
   "outputs": [
    {
     "data": {
      "text/plain": [
       "array(['2016-10-01T00:00:00.000000000', '2016-10-02T00:00:00.000000000',\n",
       "       '2016-10-03T00:00:00.000000000', '2016-10-04T00:00:00.000000000',\n",
       "       '2016-10-05T00:00:00.000000000', '2016-10-06T00:00:00.000000000',\n",
       "       '2016-10-07T00:00:00.000000000', '2016-10-08T00:00:00.000000000',\n",
       "       '2016-10-09T00:00:00.000000000', '2016-10-10T00:00:00.000000000',\n",
       "       '2016-10-11T00:00:00.000000000', '2016-10-12T00:00:00.000000000',\n",
       "       '2016-10-13T00:00:00.000000000', '2016-10-14T00:00:00.000000000',\n",
       "       '2016-10-15T00:00:00.000000000', '2016-10-16T00:00:00.000000000',\n",
       "       '2016-10-17T00:00:00.000000000', '2016-10-18T00:00:00.000000000',\n",
       "       '2016-10-19T00:00:00.000000000', '2016-10-20T00:00:00.000000000',\n",
       "       '2016-10-21T00:00:00.000000000', '2016-10-22T00:00:00.000000000',\n",
       "       '2016-10-23T00:00:00.000000000', '2016-10-24T00:00:00.000000000',\n",
       "       '2016-10-25T00:00:00.000000000', '2016-10-26T00:00:00.000000000',\n",
       "       '2016-10-27T00:00:00.000000000', '2016-10-28T00:00:00.000000000',\n",
       "       '2016-10-29T00:00:00.000000000', '2016-10-30T00:00:00.000000000',\n",
       "       '2016-10-31T00:00:00.000000000', '2016-11-01T00:00:00.000000000',\n",
       "       '2016-11-02T00:00:00.000000000', '2016-11-03T00:00:00.000000000',\n",
       "       '2016-11-04T00:00:00.000000000', '2016-11-05T00:00:00.000000000',\n",
       "       '2016-11-06T00:00:00.000000000', '2016-11-07T00:00:00.000000000',\n",
       "       '2016-11-08T00:00:00.000000000', '2016-11-09T00:00:00.000000000',\n",
       "       '2016-11-10T00:00:00.000000000', '2016-11-11T00:00:00.000000000',\n",
       "       '2016-11-12T00:00:00.000000000', '2016-11-13T00:00:00.000000000',\n",
       "       '2016-11-14T00:00:00.000000000', '2016-11-15T00:00:00.000000000',\n",
       "       '2016-11-16T00:00:00.000000000', '2016-11-17T00:00:00.000000000',\n",
       "       '2016-11-18T00:00:00.000000000', '2016-11-19T00:00:00.000000000',\n",
       "       '2016-11-20T00:00:00.000000000', '2016-11-21T00:00:00.000000000',\n",
       "       '2016-11-22T00:00:00.000000000', '2016-11-23T00:00:00.000000000',\n",
       "       '2016-11-24T00:00:00.000000000', '2016-11-25T00:00:00.000000000',\n",
       "       '2016-11-26T00:00:00.000000000', '2016-11-27T00:00:00.000000000',\n",
       "       '2016-11-28T00:00:00.000000000', '2016-11-29T00:00:00.000000000',\n",
       "       '2016-11-30T00:00:00.000000000', '2016-12-01T00:00:00.000000000',\n",
       "       '2016-12-02T00:00:00.000000000', '2016-12-03T00:00:00.000000000',\n",
       "       '2016-12-04T00:00:00.000000000', '2016-12-05T00:00:00.000000000',\n",
       "       '2016-12-06T00:00:00.000000000', '2016-12-07T00:00:00.000000000',\n",
       "       '2016-12-08T00:00:00.000000000', '2016-12-09T00:00:00.000000000',\n",
       "       '2016-12-10T00:00:00.000000000', '2016-12-11T00:00:00.000000000',\n",
       "       '2016-12-12T00:00:00.000000000', '2016-12-13T00:00:00.000000000',\n",
       "       '2016-12-14T00:00:00.000000000', '2016-12-15T00:00:00.000000000',\n",
       "       '2016-12-16T00:00:00.000000000', '2016-12-17T00:00:00.000000000',\n",
       "       '2016-12-18T00:00:00.000000000', '2016-12-19T00:00:00.000000000',\n",
       "       '2016-12-20T00:00:00.000000000', '2016-12-21T00:00:00.000000000',\n",
       "       '2016-12-22T00:00:00.000000000', '2016-12-23T00:00:00.000000000',\n",
       "       '2016-12-24T00:00:00.000000000', '2016-12-25T00:00:00.000000000',\n",
       "       '2016-12-26T00:00:00.000000000', '2016-12-27T00:00:00.000000000',\n",
       "       '2016-12-28T00:00:00.000000000', '2016-12-29T00:00:00.000000000',\n",
       "       '2016-12-30T00:00:00.000000000', '2016-12-31T00:00:00.000000000',\n",
       "       '2017-01-01T00:00:00.000000000', '2017-01-02T00:00:00.000000000',\n",
       "       '2017-01-03T00:00:00.000000000', '2017-01-04T00:00:00.000000000',\n",
       "       '2017-01-05T00:00:00.000000000', '2017-01-06T00:00:00.000000000',\n",
       "       '2017-01-07T00:00:00.000000000', '2017-01-08T00:00:00.000000000',\n",
       "       '2017-01-09T00:00:00.000000000', '2017-01-10T00:00:00.000000000',\n",
       "       '2017-01-11T00:00:00.000000000', '2017-01-12T00:00:00.000000000',\n",
       "       '2017-01-13T00:00:00.000000000', '2017-01-14T00:00:00.000000000',\n",
       "       '2017-01-15T00:00:00.000000000', '2017-01-16T00:00:00.000000000',\n",
       "       '2017-01-17T00:00:00.000000000', '2017-01-18T00:00:00.000000000',\n",
       "       '2017-01-19T00:00:00.000000000', '2017-01-20T00:00:00.000000000',\n",
       "       '2017-01-21T00:00:00.000000000', '2017-01-22T00:00:00.000000000',\n",
       "       '2017-01-23T00:00:00.000000000', '2017-01-24T00:00:00.000000000',\n",
       "       '2017-01-25T00:00:00.000000000', '2017-01-26T00:00:00.000000000',\n",
       "       '2017-01-27T00:00:00.000000000', '2017-01-28T00:00:00.000000000',\n",
       "       '2017-01-29T00:00:00.000000000', '2017-01-30T00:00:00.000000000',\n",
       "       '2017-01-31T00:00:00.000000000', '2017-02-01T00:00:00.000000000',\n",
       "       '2017-02-02T00:00:00.000000000', '2017-02-03T00:00:00.000000000',\n",
       "       '2017-02-04T00:00:00.000000000', '2017-02-05T00:00:00.000000000',\n",
       "       '2017-02-06T00:00:00.000000000', '2017-02-07T00:00:00.000000000',\n",
       "       '2017-02-08T00:00:00.000000000', '2017-02-09T00:00:00.000000000',\n",
       "       '2017-02-10T00:00:00.000000000', '2017-02-11T00:00:00.000000000',\n",
       "       '2017-02-12T00:00:00.000000000', '2017-02-13T00:00:00.000000000',\n",
       "       '2017-02-14T00:00:00.000000000', '2017-02-15T00:00:00.000000000',\n",
       "       '2017-02-16T00:00:00.000000000', '2017-02-17T00:00:00.000000000',\n",
       "       '2017-02-18T00:00:00.000000000', '2017-02-19T00:00:00.000000000',\n",
       "       '2017-02-20T00:00:00.000000000', '2017-02-21T00:00:00.000000000',\n",
       "       '2017-02-22T00:00:00.000000000', '2017-02-23T00:00:00.000000000',\n",
       "       '2017-02-24T00:00:00.000000000', '2017-02-25T00:00:00.000000000',\n",
       "       '2017-02-26T00:00:00.000000000', '2017-02-27T00:00:00.000000000',\n",
       "       '2017-02-28T00:00:00.000000000', '2017-03-01T00:00:00.000000000',\n",
       "       '2017-03-02T00:00:00.000000000', '2017-03-03T00:00:00.000000000',\n",
       "       '2017-03-04T00:00:00.000000000', '2017-03-05T00:00:00.000000000',\n",
       "       '2017-03-06T00:00:00.000000000', '2017-03-07T00:00:00.000000000',\n",
       "       '2017-03-08T00:00:00.000000000', '2017-03-09T00:00:00.000000000',\n",
       "       '2017-03-10T00:00:00.000000000', '2017-03-11T00:00:00.000000000',\n",
       "       '2017-03-12T00:00:00.000000000', '2017-03-13T00:00:00.000000000',\n",
       "       '2017-03-14T00:00:00.000000000', '2017-03-15T00:00:00.000000000',\n",
       "       '2017-03-16T00:00:00.000000000', '2017-03-17T00:00:00.000000000',\n",
       "       '2017-03-18T00:00:00.000000000', '2017-03-19T00:00:00.000000000',\n",
       "       '2017-03-20T00:00:00.000000000', '2017-03-21T00:00:00.000000000',\n",
       "       '2017-03-22T00:00:00.000000000', '2017-03-23T00:00:00.000000000',\n",
       "       '2017-03-24T00:00:00.000000000', '2017-03-25T00:00:00.000000000',\n",
       "       '2017-03-26T00:00:00.000000000', '2017-03-27T00:00:00.000000000',\n",
       "       '2017-03-28T00:00:00.000000000', '2017-03-29T00:00:00.000000000',\n",
       "       '2017-03-30T00:00:00.000000000', '2017-03-31T00:00:00.000000000',\n",
       "       '2017-04-01T00:00:00.000000000', '2017-04-02T00:00:00.000000000',\n",
       "       '2017-04-03T00:00:00.000000000', '2017-04-04T00:00:00.000000000',\n",
       "       '2017-04-05T00:00:00.000000000', '2017-04-06T00:00:00.000000000',\n",
       "       '2017-04-07T00:00:00.000000000', '2017-04-08T00:00:00.000000000',\n",
       "       '2017-04-09T00:00:00.000000000', '2017-04-10T00:00:00.000000000',\n",
       "       '2017-04-11T00:00:00.000000000', '2017-04-12T00:00:00.000000000',\n",
       "       '2017-04-13T00:00:00.000000000', '2017-04-14T00:00:00.000000000',\n",
       "       '2017-04-15T00:00:00.000000000', '2017-04-16T00:00:00.000000000',\n",
       "       '2017-04-17T00:00:00.000000000', '2017-04-18T00:00:00.000000000',\n",
       "       '2017-04-19T00:00:00.000000000', '2017-04-20T00:00:00.000000000',\n",
       "       '2017-04-21T00:00:00.000000000', '2017-04-22T00:00:00.000000000',\n",
       "       '2017-04-23T00:00:00.000000000', '2017-04-24T00:00:00.000000000',\n",
       "       '2017-04-25T00:00:00.000000000', '2017-04-26T00:00:00.000000000',\n",
       "       '2017-04-27T00:00:00.000000000', '2017-04-28T00:00:00.000000000',\n",
       "       '2017-04-29T00:00:00.000000000', '2017-04-30T00:00:00.000000000',\n",
       "       '2017-08-01T00:00:00.000000000', '2017-08-02T00:00:00.000000000',\n",
       "       '2017-08-03T00:00:00.000000000', '2017-08-04T00:00:00.000000000',\n",
       "       '2017-08-05T00:00:00.000000000', '2017-08-06T00:00:00.000000000',\n",
       "       '2017-08-07T00:00:00.000000000', '2017-08-08T00:00:00.000000000',\n",
       "       '2017-08-09T00:00:00.000000000', '2017-08-10T00:00:00.000000000',\n",
       "       '2017-08-11T00:00:00.000000000', '2017-08-12T00:00:00.000000000',\n",
       "       '2017-08-13T00:00:00.000000000', '2017-08-14T00:00:00.000000000',\n",
       "       '2017-08-15T00:00:00.000000000', '2017-08-16T00:00:00.000000000',\n",
       "       '2017-08-17T00:00:00.000000000', '2017-08-18T00:00:00.000000000',\n",
       "       '2017-08-19T00:00:00.000000000', '2017-08-20T00:00:00.000000000',\n",
       "       '2017-08-21T00:00:00.000000000', '2017-08-22T00:00:00.000000000',\n",
       "       '2017-08-23T00:00:00.000000000', '2017-08-24T00:00:00.000000000',\n",
       "       '2017-08-25T00:00:00.000000000', '2017-08-26T00:00:00.000000000',\n",
       "       '2017-08-27T00:00:00.000000000', '2017-08-28T00:00:00.000000000',\n",
       "       '2017-08-29T00:00:00.000000000', '2017-08-30T00:00:00.000000000',\n",
       "       '2017-08-31T00:00:00.000000000', '2017-09-01T00:00:00.000000000',\n",
       "       '2017-09-02T00:00:00.000000000', '2017-09-03T00:00:00.000000000',\n",
       "       '2017-09-04T00:00:00.000000000', '2017-09-05T00:00:00.000000000',\n",
       "       '2017-09-06T00:00:00.000000000', '2017-09-07T00:00:00.000000000',\n",
       "       '2017-09-08T00:00:00.000000000', '2017-09-09T00:00:00.000000000',\n",
       "       '2017-09-10T00:00:00.000000000', '2017-09-11T00:00:00.000000000',\n",
       "       '2017-09-12T00:00:00.000000000', '2017-09-13T00:00:00.000000000',\n",
       "       '2017-09-14T00:00:00.000000000', '2017-09-15T00:00:00.000000000',\n",
       "       '2017-09-16T00:00:00.000000000', '2017-09-17T00:00:00.000000000',\n",
       "       '2017-09-18T00:00:00.000000000', '2017-09-19T00:00:00.000000000',\n",
       "       '2017-09-20T00:00:00.000000000', '2017-09-21T00:00:00.000000000',\n",
       "       '2017-09-22T00:00:00.000000000', '2017-09-23T00:00:00.000000000',\n",
       "       '2017-09-24T00:00:00.000000000', '2017-09-25T00:00:00.000000000',\n",
       "       '2017-09-26T00:00:00.000000000', '2017-09-27T00:00:00.000000000',\n",
       "       '2017-09-28T00:00:00.000000000', '2017-09-29T00:00:00.000000000',\n",
       "       '2017-09-30T00:00:00.000000000'], dtype='datetime64[ns]')"
      ]
     },
     "execution_count": 17,
     "metadata": {},
     "output_type": "execute_result"
    }
   ],
   "source": [
    "sent_time2017"
   ]
  },
  {
   "cell_type": "markdown",
   "metadata": {},
   "source": [
    "Applying Indus basin mask to the \"truth\" model run"
   ]
  },
  {
   "cell_type": "code",
   "execution_count": 13,
   "metadata": {},
   "outputs": [],
   "source": [
    "era5 = era5.where(era5_mask)"
   ]
  },
  {
   "cell_type": "code",
   "execution_count": 14,
   "metadata": {},
   "outputs": [],
   "source": [
    "era5 = era5.SnowDepth_tavg"
   ]
  },
  {
   "cell_type": "markdown",
   "metadata": {},
   "source": [
    "Selecting days from the \"truth\" run that actually have S1 data"
   ]
  },
  {
   "cell_type": "code",
   "execution_count": 13,
   "metadata": {},
   "outputs": [],
   "source": [
    "era5_obs_SD = era5.sel(time= sent_time2017)\n",
    "#era5_obs_SD = era5_obs.SnowDepth_inst\n",
    "era5_obs_SD = era5_obs_SD.load()"
   ]
  },
  {
   "cell_type": "markdown",
   "metadata": {},
   "source": [
    "Generating synthetic ovservations\n",
    "\n",
    "Iterates through each lat/lon point. For each point, selects the vector of data over time, and adds uncertainty.\n",
    "\n",
    "The uncertainty scales with snow depth"
   ]
  },
  {
   "cell_type": "code",
   "execution_count": 14,
   "metadata": {},
   "outputs": [],
   "source": [
    "for n in np.arange(len(era5_obs_SD.north_south)):\n",
    "    for e in np.arange(len(era5_obs_SD.east_west)):\n",
    "        north_south = era5_obs_SD.north_south[n]\n",
    "        east_west = era5_obs_SD.east_west[e]\n",
    "        sent_vect = sentinel.snd.sel({'lon': east_west, 'lat': north_south}, method = 'nearest').values\n",
    "        era5 = era5_obs_SD.sel({'north_south': north_south, 'east_west': east_west}).values\n",
    "        sent_nans = sent_vect * 0 #creates mask of 0s and nans \n",
    "        sd_vect = (sent_nans + era5 + 0.1) * 0.15 #Adding the nan mask here makes all S1 nans transfer to truth\n",
    "        rep_vect = era5 + np.random.normal(-0.01, sd_vect) #SD of nan -> nan\n",
    "        era5_obs_SD[:, n, e] = rep_vect"
   ]
  },
  {
   "cell_type": "markdown",
   "metadata": {},
   "source": [
    "Saving synthetic observations as netcdf"
   ]
  },
  {
   "cell_type": "code",
   "execution_count": 15,
   "metadata": {},
   "outputs": [],
   "source": [
    "#era5_obs_SD.to_netcdf('5km_obs_lognormal.nc')"
   ]
  },
  {
   "cell_type": "markdown",
   "metadata": {},
   "source": [
    "Creating a plot of the \"satellite\" swaths"
   ]
  },
  {
   "cell_type": "code",
   "execution_count": 18,
   "metadata": {},
   "outputs": [],
   "source": [
    "nans = np.sum(np.isnan(era5_obs_SD) != True, axis = 0)"
   ]
  },
  {
   "cell_type": "code",
   "execution_count": null,
   "metadata": {},
   "outputs": [],
   "source": [
    "plt.contourf(nans.east_west, nans.north_south, nans)\n",
    "plt.title('Number of Synthetic Observations, WY2017')\n",
    "plt.colorbar()"
   ]
  },
  {
   "cell_type": "code",
   "execution_count": 19,
   "metadata": {},
   "outputs": [
    {
     "name": "stderr",
     "output_type": "stream",
     "text": [
      "<ipython-input-19-3a517c37a5ea>:1: MatplotlibDeprecationWarning: shading='flat' when X and Y have the same dimensions as C is deprecated since 3.3.  Either specify the corners of the quadrilaterals with X and Y, or pass shading='auto', 'nearest' or 'gouraud', or set rcParams['pcolor.shading'].  This will become an error two minor releases later.\n",
      "  plt.pcolor(nans.east_west, nans.north_south, nans)\n"
     ]
    },
    {
     "data": {
      "text/plain": [
       "<matplotlib.colorbar.Colorbar at 0x2b887dbc7850>"
      ]
     },
     "execution_count": 19,
     "metadata": {},
     "output_type": "execute_result"
    },
    {
     "data": {
      "image/png": "[encoded data removed]",
      "text/plain": [
       "<Figure size 432x288 with 2 Axes>"
      ]
     },
     "metadata": {
      "needs_background": "light"
     },
     "output_type": "display_data"
    }
   ],
   "source": [
    "plt.pcolor(nans.east_west, nans.north_south, nans)\n",
    "plt.title('Number of Synthetic Observations, WY2017')\n",
    "plt.colorbar()"
   ]
  },
  {
   "cell_type": "code",
   "execution_count": null,
   "metadata": {},
   "outputs": [],
   "source": []
  },
  {
   "cell_type": "markdown",
   "metadata": {},
   "source": [
    "### Setting normally perturbed observations so that minimum is 0"
   ]
  },
  {
   "cell_type": "code",
   "execution_count": 4,
   "metadata": {},
   "outputs": [],
   "source": [
    "#lognormal = xr.open_dataset('5km_obs_lognormal.nc')"
   ]
  },
  {
   "cell_type": "code",
   "execution_count": 8,
   "metadata": {},
   "outputs": [],
   "source": [
    "normal = xr.open_dataset('../files_for_pbs/5km_obs.nc')"
   ]
  },
  {
   "cell_type": "code",
   "execution_count": 9,
   "metadata": {},
   "outputs": [],
   "source": [
    "nans = np.isnan(normal.SnowDepth_tavg)"
   ]
  },
  {
   "cell_type": "code",
   "execution_count": 10,
   "metadata": {},
   "outputs": [],
   "source": [
    "test = normal.where(normal.SnowDepth_tavg >= 0, 0)\n",
    "test = test.where(nans == False)"
   ]
  },
  {
   "cell_type": "code",
   "execution_count": null,
   "metadata": {},
   "outputs": [],
   "source": []
  },
  {
   "cell_type": "code",
   "execution_count": 55,
   "metadata": {},
   "outputs": [
    {
     "name": "stderr",
     "output_type": "stream",
     "text": [
      "<ipython-input-55-a46fc78e812b>:1: MatplotlibDeprecationWarning: shading='flat' when X and Y have the same dimensions as C is deprecated since 3.3.  Either specify the corners of the quadrilaterals with X and Y, or pass shading='auto', 'nearest' or 'gouraud', or set rcParams['pcolor.shading'].  This will become an error two minor releases later.\n",
      "  plt.pcolor(test.east_west, test.north_south, test.SnowDepth_tavg.max('time'))\n"
     ]
    },
    {
     "data": {
      "text/plain": [
       "<matplotlib.colorbar.Colorbar at 0x2b26a472cf70>"
      ]
     },
     "execution_count": 55,
     "metadata": {},
     "output_type": "execute_result"
    },
    {
     "data": {
      "image/png": "[encoded data removed]",
      "text/plain": [
       "<Figure size 432x288 with 2 Axes>"
      ]
     },
     "metadata": {
      "needs_background": "light"
     },
     "output_type": "display_data"
    }
   ],
   "source": [
    "plt.pcolor(test.east_west, test.north_south, test.SnowDepth_tavg.max('time')) \n",
    "plt.colorbar()"
   ]
  },
  {
   "cell_type": "code",
   "execution_count": 21,
   "metadata": {},
   "outputs": [
    {
     "data": {
      "text/html": [
       "<div><svg style=\"position: absolute; width: 0; height: 0; overflow: hidden\">\n",
       "<defs>\n",
       "<symbol id=\"icon-database\" viewBox=\"0 0 32 32\">\n",
       "<path d=\"M16 0c-8.837 0-16 2.239-16 5v4c0 2.761 7.163 5 16 5s16-2.239 16-5v-4c0-2.761-7.163-5-16-5z\"></path>\n",
       "<path d=\"M16 17c-8.837 0-16-2.239-16-5v6c0 2.761 7.163 5 16 5s16-2.239 16-5v-6c0 2.761-7.163 5-16 5z\"></path>\n",
       "<path d=\"M16 26c-8.837 0-16-2.239-16-5v6c0 2.761 7.163 5 16 5s16-2.239 16-5v-6c0 2.761-7.163 5-16 5z\"></path>\n",
       "</symbol>\n",
       "<symbol id=\"icon-file-text2\" viewBox=\"0 0 32 32\">\n",
       "<path d=\"M28.681 7.159c-0.694-0.947-1.662-2.053-2.724-3.116s-2.169-2.030-3.116-2.724c-1.612-1.182-2.393-1.319-2.841-1.319h-15.5c-1.378 0-2.5 1.121-2.5 2.5v27c0 1.378 1.122 2.5 2.5 2.5h23c1.378 0 2.5-1.122 2.5-2.5v-19.5c0-0.448-0.137-1.23-1.319-2.841zM24.543 5.457c0.959 0.959 1.712 1.825 2.268 2.543h-4.811v-4.811c0.718 0.556 1.584 1.309 2.543 2.268zM28 29.5c0 0.271-0.229 0.5-0.5 0.5h-23c-0.271 0-0.5-0.229-0.5-0.5v-27c0-0.271 0.229-0.5 0.5-0.5 0 0 15.499-0 15.5 0v7c0 0.552 0.448 1 1 1h7v19.5z\"></path>\n",
       "<path d=\"M23 26h-14c-0.552 0-1-0.448-1-1s0.448-1 1-1h14c0.552 0 1 0.448 1 1s-0.448 1-1 1z\"></path>\n",
       "<path d=\"M23 22h-14c-0.552 0-1-0.448-1-1s0.448-1 1-1h14c0.552 0 1 0.448 1 1s-0.448 1-1 1z\"></path>\n",
       "<path d=\"M23 18h-14c-0.552 0-1-0.448-1-1s0.448-1 1-1h14c0.552 0 1 0.448 1 1s-0.448 1-1 1z\"></path>\n",
       "</symbol>\n",
       "</defs>\n",
       "</svg>\n",
       "<style>/* CSS stylesheet for displaying xarray objects in jupyterlab.\n",
       " *\n",
       " */\n",
       "\n",
       ":root {\n",
       "  --xr-font-color0: var(--jp-content-font-color0, rgba(0, 0, 0, 1));\n",
       "  --xr-font-color2: var(--jp-content-font-color2, rgba(0, 0, 0, 0.54));\n",
       "  --xr-font-color3: var(--jp-content-font-color3, rgba(0, 0, 0, 0.38));\n",
       "  --xr-border-color: var(--jp-border-color2, #e0e0e0);\n",
       "  --xr-disabled-color: var(--jp-layout-color3, #bdbdbd);\n",
       "  --xr-background-color: var(--jp-layout-color0, white);\n",
       "  --xr-background-color-row-even: var(--jp-layout-color1, white);\n",
       "  --xr-background-color-row-odd: var(--jp-layout-color2, #eeeeee);\n",
       "}\n",
       "\n",
       "html[theme=dark],\n",
       "body.vscode-dark {\n",
       "  --xr-font-color0: rgba(255, 255, 255, 1);\n",
       "  --xr-font-color2: rgba(255, 255, 255, 0.54);\n",
       "  --xr-font-color3: rgba(255, 255, 255, 0.38);\n",
       "  --xr-border-color: #1F1F1F;\n",
       "  --xr-disabled-color: #515151;\n",
       "  --xr-background-color: #111111;\n",
       "  --xr-background-color-row-even: #111111;\n",
       "  --xr-background-color-row-odd: #313131;\n",
       "}\n",
       "\n",
       ".xr-wrap {\n",
       "  display: block;\n",
       "  min-width: 300px;\n",
       "  max-width: 700px;\n",
       "}\n",
       "\n",
       ".xr-text-repr-fallback {\n",
       "  /* fallback to plain text repr when CSS is not injected (untrusted notebook) */\n",
       "  display: none;\n",
       "}\n",
       "\n",
       ".xr-header {\n",
       "  padding-top: 6px;\n",
       "  padding-bottom: 6px;\n",
       "  margin-bottom: 4px;\n",
       "  border-bottom: solid 1px var(--xr-border-color);\n",
       "}\n",
       "\n",
       ".xr-header > div,\n",
       ".xr-header > ul {\n",
       "  display: inline;\n",
       "  margin-top: 0;\n",
       "  margin-bottom: 0;\n",
       "}\n",
       "\n",
       ".xr-obj-type,\n",
       ".xr-array-name {\n",
       "  margin-left: 2px;\n",
       "  margin-right: 10px;\n",
       "}\n",
       "\n",
       ".xr-obj-type {\n",
       "  color: var(--xr-font-color2);\n",
       "}\n",
       "\n",
       ".xr-sections {\n",
       "  padding-left: 0 !important;\n",
       "  display: grid;\n",
       "  grid-template-columns: 150px auto auto 1fr 20px 20px;\n",
       "}\n",
       "\n",
       ".xr-section-item {\n",
       "  display: contents;\n",
       "}\n",
       "\n",
       ".xr-section-item input {\n",
       "  display: none;\n",
       "}\n",
       "\n",
       ".xr-section-item input + label {\n",
       "  color: var(--xr-disabled-color);\n",
       "}\n",
       "\n",
       ".xr-section-item input:enabled + label {\n",
       "  cursor: pointer;\n",
       "  color: var(--xr-font-color2);\n",
       "}\n",
       "\n",
       ".xr-section-item input:enabled + label:hover {\n",
       "  color: var(--xr-font-color0);\n",
       "}\n",
       "\n",
       ".xr-section-summary {\n",
       "  grid-column: 1;\n",
       "  color: var(--xr-font-color2);\n",
       "  font-weight: 500;\n",
       "}\n",
       "\n",
       ".xr-section-summary > span {\n",
       "  display: inline-block;\n",
       "  padding-left: 0.5em;\n",
       "}\n",
       "\n",
       ".xr-section-summary-in:disabled + label {\n",
       "  color: var(--xr-font-color2);\n",
       "}\n",
       "\n",
       ".xr-section-summary-in + label:before {\n",
       "  display: inline-block;\n",
       "  content: '►';\n",
       "  font-size: 11px;\n",
       "  width: 15px;\n",
       "  text-align: center;\n",
       "}\n",
       "\n",
       ".xr-section-summary-in:disabled + label:before {\n",
       "  color: var(--xr-disabled-color);\n",
       "}\n",
       "\n",
       ".xr-section-summary-in:checked + label:before {\n",
       "  content: '▼';\n",
       "}\n",
       "\n",
       ".xr-section-summary-in:checked + label > span {\n",
       "  display: none;\n",
       "}\n",
       "\n",
       ".xr-section-summary,\n",
       ".xr-section-inline-details {\n",
       "  padding-top: 4px;\n",
       "  padding-bottom: 4px;\n",
       "}\n",
       "\n",
       ".xr-section-inline-details {\n",
       "  grid-column: 2 / -1;\n",
       "}\n",
       "\n",
       ".xr-section-details {\n",
       "  display: none;\n",
       "  grid-column: 1 / -1;\n",
       "  margin-bottom: 5px;\n",
       "}\n",
       "\n",
       ".xr-section-summary-in:checked ~ .xr-section-details {\n",
       "  display: contents;\n",
       "}\n",
       "\n",
       ".xr-array-wrap {\n",
       "  grid-column: 1 / -1;\n",
       "  display: grid;\n",
       "  grid-template-columns: 20px auto;\n",
       "}\n",
       "\n",
       ".xr-array-wrap > label {\n",
       "  grid-column: 1;\n",
       "  vertical-align: top;\n",
       "}\n",
       "\n",
       ".xr-preview {\n",
       "  color: var(--xr-font-color3);\n",
       "}\n",
       "\n",
       ".xr-array-preview,\n",
       ".xr-array-data {\n",
       "  padding: 0 5px !important;\n",
       "  grid-column: 2;\n",
       "}\n",
       "\n",
       ".xr-array-data,\n",
       ".xr-array-in:checked ~ .xr-array-preview {\n",
       "  display: none;\n",
       "}\n",
       "\n",
       ".xr-array-in:checked ~ .xr-array-data,\n",
       ".xr-array-preview {\n",
       "  display: inline-block;\n",
       "}\n",
       "\n",
       ".xr-dim-list {\n",
       "  display: inline-block !important;\n",
       "  list-style: none;\n",
       "  padding: 0 !important;\n",
       "  margin: 0;\n",
       "}\n",
       "\n",
       ".xr-dim-list li {\n",
       "  display: inline-block;\n",
       "  padding: 0;\n",
       "  margin: 0;\n",
       "}\n",
       "\n",
       ".xr-dim-list:before {\n",
       "  content: '(';\n",
       "}\n",
       "\n",
       ".xr-dim-list:after {\n",
       "  content: ')';\n",
       "}\n",
       "\n",
       ".xr-dim-list li:not(:last-child):after {\n",
       "  content: ',';\n",
       "  padding-right: 5px;\n",
       "}\n",
       "\n",
       ".xr-has-index {\n",
       "  font-weight: bold;\n",
       "}\n",
       "\n",
       ".xr-var-list,\n",
       ".xr-var-item {\n",
       "  display: contents;\n",
       "}\n",
       "\n",
       ".xr-var-item > div,\n",
       ".xr-var-item label,\n",
       ".xr-var-item > .xr-var-name span {\n",
       "  background-color: var(--xr-background-color-row-even);\n",
       "  margin-bottom: 0;\n",
       "}\n",
       "\n",
       ".xr-var-item > .xr-var-name:hover span {\n",
       "  padding-right: 5px;\n",
       "}\n",
       "\n",
       ".xr-var-list > li:nth-child(odd) > div,\n",
       ".xr-var-list > li:nth-child(odd) > label,\n",
       ".xr-var-list > li:nth-child(odd) > .xr-var-name span {\n",
       "  background-color: var(--xr-background-color-row-odd);\n",
       "}\n",
       "\n",
       ".xr-var-name {\n",
       "  grid-column: 1;\n",
       "}\n",
       "\n",
       ".xr-var-dims {\n",
       "  grid-column: 2;\n",
       "}\n",
       "\n",
       ".xr-var-dtype {\n",
       "  grid-column: 3;\n",
       "  text-align: right;\n",
       "  color: var(--xr-font-color2);\n",
       "}\n",
       "\n",
       ".xr-var-preview {\n",
       "  grid-column: 4;\n",
       "}\n",
       "\n",
       ".xr-var-name,\n",
       ".xr-var-dims,\n",
       ".xr-var-dtype,\n",
       ".xr-preview,\n",
       ".xr-attrs dt {\n",
       "  white-space: nowrap;\n",
       "  overflow: hidden;\n",
       "  text-overflow: ellipsis;\n",
       "  padding-right: 10px;\n",
       "}\n",
       "\n",
       ".xr-var-name:hover,\n",
       ".xr-var-dims:hover,\n",
       ".xr-var-dtype:hover,\n",
       ".xr-attrs dt:hover {\n",
       "  overflow: visible;\n",
       "  width: auto;\n",
       "  z-index: 1;\n",
       "}\n",
       "\n",
       ".xr-var-attrs,\n",
       ".xr-var-data {\n",
       "  display: none;\n",
       "  background-color: var(--xr-background-color) !important;\n",
       "  padding-bottom: 5px !important;\n",
       "}\n",
       "\n",
       ".xr-var-attrs-in:checked ~ .xr-var-attrs,\n",
       ".xr-var-data-in:checked ~ .xr-var-data {\n",
       "  display: block;\n",
       "}\n",
       "\n",
       ".xr-var-data > table {\n",
       "  float: right;\n",
       "}\n",
       "\n",
       ".xr-var-name span,\n",
       ".xr-var-data,\n",
       ".xr-attrs {\n",
       "  padding-left: 25px !important;\n",
       "}\n",
       "\n",
       ".xr-attrs,\n",
       ".xr-var-attrs,\n",
       ".xr-var-data {\n",
       "  grid-column: 1 / -1;\n",
       "}\n",
       "\n",
       "dl.xr-attrs {\n",
       "  padding: 0;\n",
       "  margin: 0;\n",
       "  display: grid;\n",
       "  grid-template-columns: 125px auto;\n",
       "}\n",
       "\n",
       ".xr-attrs dt,\n",
       ".xr-attrs dd {\n",
       "  padding: 0;\n",
       "  margin: 0;\n",
       "  float: left;\n",
       "  padding-right: 10px;\n",
       "  width: auto;\n",
       "}\n",
       "\n",
       ".xr-attrs dt {\n",
       "  font-weight: normal;\n",
       "  grid-column: 1;\n",
       "}\n",
       "\n",
       ".xr-attrs dt:hover span {\n",
       "  display: inline-block;\n",
       "  background: var(--xr-background-color);\n",
       "  padding-right: 10px;\n",
       "}\n",
       "\n",
       ".xr-attrs dd {\n",
       "  grid-column: 2;\n",
       "  white-space: pre-wrap;\n",
       "  word-break: break-all;\n",
       "}\n",
       "\n",
       ".xr-icon-database,\n",
       ".xr-icon-file-text2 {\n",
       "  display: inline-block;\n",
       "  vertical-align: middle;\n",
       "  width: 1em;\n",
       "  height: 1.5em !important;\n",
       "  stroke-width: 0;\n",
       "  stroke: currentColor;\n",
       "  fill: currentColor;\n",
       "}\n",
       "</style><pre class='xr-text-repr-fallback'>&lt;xarray.DataArray &#x27;SnowDepth_tavg&#x27; (time: 273, north_south: 300, east_west: 340)&gt;\n",
       "array([[[False, False, False, ..., False, False, False],\n",
       "        [False, False, False, ..., False, False, False],\n",
       "        [False, False, False, ..., False, False, False],\n",
       "        ...,\n",
       "        [False, False, False, ..., False, False, False],\n",
       "        [False, False, False, ..., False, False, False],\n",
       "        [False, False, False, ..., False, False, False]],\n",
       "\n",
       "       [[False, False, False, ..., False, False, False],\n",
       "        [False, False, False, ..., False, False, False],\n",
       "        [False, False, False, ..., False, False, False],\n",
       "        ...,\n",
       "        [False, False, False, ..., False, False, False],\n",
       "        [False, False, False, ..., False, False, False],\n",
       "        [False, False, False, ..., False, False, False]],\n",
       "\n",
       "       [[False, False, False, ..., False, False, False],\n",
       "        [False, False, False, ..., False, False, False],\n",
       "        [False, False, False, ..., False, False, False],\n",
       "        ...,\n",
       "...\n",
       "        ...,\n",
       "        [False, False, False, ..., False, False, False],\n",
       "        [False, False, False, ..., False, False, False],\n",
       "        [False, False, False, ..., False, False, False]],\n",
       "\n",
       "       [[False, False, False, ..., False, False, False],\n",
       "        [False, False, False, ..., False, False, False],\n",
       "        [False, False, False, ..., False, False, False],\n",
       "        ...,\n",
       "        [False, False, False, ..., False, False, False],\n",
       "        [False, False, False, ..., False, False, False],\n",
       "        [False, False, False, ..., False, False, False]],\n",
       "\n",
       "       [[False, False, False, ..., False, False, False],\n",
       "        [False, False, False, ..., False, False, False],\n",
       "        [False, False, False, ..., False, False, False],\n",
       "        ...,\n",
       "        [False, False, False, ..., False, False, False],\n",
       "        [False, False, False, ..., False, False, False],\n",
       "        [False, False, False, ..., False, False, False]]])\n",
       "Coordinates:\n",
       "  * time         (time) datetime64[ns] 2016-10-01 2016-10-02 ... 2017-09-30\n",
       "  * east_west    (east_west) float32 66.02 66.08 66.12 ... 82.88 82.92 82.98\n",
       "  * north_south  (north_south) float32 23.02 23.07 23.12 ... 37.88 37.92 37.97</pre><div class='xr-wrap' hidden><div class='xr-header'><div class='xr-obj-type'>xarray.DataArray</div><div class='xr-array-name'>'SnowDepth_tavg'</div><ul class='xr-dim-list'><li><span class='xr-has-index'>time</span>: 273</li><li><span class='xr-has-index'>north_south</span>: 300</li><li><span class='xr-has-index'>east_west</span>: 340</li></ul></div><ul class='xr-sections'><li class='xr-section-item'><div class='xr-array-wrap'><input id='section-d00d1638-5548-4d10-b8f7-a586df761549' class='xr-array-in' type='checkbox' checked><label for='section-d00d1638-5548-4d10-b8f7-a586df761549' title='Show/hide data repr'><svg class='icon xr-icon-database'><use xlink:href='#icon-database'></use></svg></label><div class='xr-array-preview xr-preview'><span>False False False False False False ... False False False False False</span></div><div class='xr-array-data'><pre>array([[[False, False, False, ..., False, False, False],\n",
       "        [False, False, False, ..., False, False, False],\n",
       "        [False, False, False, ..., False, False, False],\n",
       "        ...,\n",
       "        [False, False, False, ..., False, False, False],\n",
       "        [False, False, False, ..., False, False, False],\n",
       "        [False, False, False, ..., False, False, False]],\n",
       "\n",
       "       [[False, False, False, ..., False, False, False],\n",
       "        [False, False, False, ..., False, False, False],\n",
       "        [False, False, False, ..., False, False, False],\n",
       "        ...,\n",
       "        [False, False, False, ..., False, False, False],\n",
       "        [False, False, False, ..., False, False, False],\n",
       "        [False, False, False, ..., False, False, False]],\n",
       "\n",
       "       [[False, False, False, ..., False, False, False],\n",
       "        [False, False, False, ..., False, False, False],\n",
       "        [False, False, False, ..., False, False, False],\n",
       "        ...,\n",
       "...\n",
       "        ...,\n",
       "        [False, False, False, ..., False, False, False],\n",
       "        [False, False, False, ..., False, False, False],\n",
       "        [False, False, False, ..., False, False, False]],\n",
       "\n",
       "       [[False, False, False, ..., False, False, False],\n",
       "        [False, False, False, ..., False, False, False],\n",
       "        [False, False, False, ..., False, False, False],\n",
       "        ...,\n",
       "        [False, False, False, ..., False, False, False],\n",
       "        [False, False, False, ..., False, False, False],\n",
       "        [False, False, False, ..., False, False, False]],\n",
       "\n",
       "       [[False, False, False, ..., False, False, False],\n",
       "        [False, False, False, ..., False, False, False],\n",
       "        [False, False, False, ..., False, False, False],\n",
       "        ...,\n",
       "        [False, False, False, ..., False, False, False],\n",
       "        [False, False, False, ..., False, False, False],\n",
       "        [False, False, False, ..., False, False, False]]])</pre></div></div></li><li class='xr-section-item'><input id='section-9e1bb10b-652f-4671-99a3-fdbb6896eb4e' class='xr-section-summary-in' type='checkbox'  checked><label for='section-9e1bb10b-652f-4671-99a3-fdbb6896eb4e' class='xr-section-summary' >Coordinates: <span>(3)</span></label><div class='xr-section-inline-details'></div><div class='xr-section-details'><ul class='xr-var-list'><li class='xr-var-item'><div class='xr-var-name'><span class='xr-has-index'>time</span></div><div class='xr-var-dims'>(time)</div><div class='xr-var-dtype'>datetime64[ns]</div><div class='xr-var-preview xr-preview'>2016-10-01 ... 2017-09-30</div><input id='attrs-91766586-f31c-4683-937e-c538d963ebbf' class='xr-var-attrs-in' type='checkbox' ><label for='attrs-91766586-f31c-4683-937e-c538d963ebbf' title='Show/Hide attributes'><svg class='icon xr-icon-file-text2'><use xlink:href='#icon-file-text2'></use></svg></label><input id='data-4e48c92e-03ce-4b85-a44c-39b749843575' class='xr-var-data-in' type='checkbox'><label for='data-4e48c92e-03ce-4b85-a44c-39b749843575' title='Show/Hide data repr'><svg class='icon xr-icon-database'><use xlink:href='#icon-database'></use></svg></label><div class='xr-var-attrs'><dl class='xr-attrs'><dt><span>long_name :</span></dt><dd>time</dd><dt><span>time_increment :</span></dt><dd>86400</dd><dt><span>begin_date :</span></dt><dd>20150101</dd><dt><span>begin_time :</span></dt><dd>000000</dd></dl></div><div class='xr-var-data'><pre>array([&#x27;2016-10-01T00:00:00.000000000&#x27;, &#x27;2016-10-02T00:00:00.000000000&#x27;,\n",
       "       &#x27;2016-10-03T00:00:00.000000000&#x27;, ..., &#x27;2017-09-28T00:00:00.000000000&#x27;,\n",
       "       &#x27;2017-09-29T00:00:00.000000000&#x27;, &#x27;2017-09-30T00:00:00.000000000&#x27;],\n",
       "      dtype=&#x27;datetime64[ns]&#x27;)</pre></div></li><li class='xr-var-item'><div class='xr-var-name'><span class='xr-has-index'>east_west</span></div><div class='xr-var-dims'>(east_west)</div><div class='xr-var-dtype'>float32</div><div class='xr-var-preview xr-preview'>66.02 66.08 66.12 ... 82.92 82.98</div><input id='attrs-2fd65a3a-8c7a-4758-882e-28db57fa09de' class='xr-var-attrs-in' type='checkbox' disabled><label for='attrs-2fd65a3a-8c7a-4758-882e-28db57fa09de' title='Show/Hide attributes'><svg class='icon xr-icon-file-text2'><use xlink:href='#icon-file-text2'></use></svg></label><input id='data-b7ab324d-2bb4-43eb-9eff-9b9e0cb8f46b' class='xr-var-data-in' type='checkbox'><label for='data-b7ab324d-2bb4-43eb-9eff-9b9e0cb8f46b' title='Show/Hide data repr'><svg class='icon xr-icon-database'><use xlink:href='#icon-database'></use></svg></label><div class='xr-var-attrs'><dl class='xr-attrs'></dl></div><div class='xr-var-data'><pre>array([66.024994, 66.07501 , 66.125   , ..., 82.875   , 82.92499 , 82.975006],\n",
       "      dtype=float32)</pre></div></li><li class='xr-var-item'><div class='xr-var-name'><span class='xr-has-index'>north_south</span></div><div class='xr-var-dims'>(north_south)</div><div class='xr-var-dtype'>float32</div><div class='xr-var-preview xr-preview'>23.02 23.07 23.12 ... 37.92 37.97</div><input id='attrs-39d27f62-eb9e-4389-9aff-bdf190641b8b' class='xr-var-attrs-in' type='checkbox' disabled><label for='attrs-39d27f62-eb9e-4389-9aff-bdf190641b8b' title='Show/Hide attributes'><svg class='icon xr-icon-file-text2'><use xlink:href='#icon-file-text2'></use></svg></label><input id='data-c379c4a3-af78-43b5-a3a8-591fdfd4a272' class='xr-var-data-in' type='checkbox'><label for='data-c379c4a3-af78-43b5-a3a8-591fdfd4a272' title='Show/Hide data repr'><svg class='icon xr-icon-database'><use xlink:href='#icon-database'></use></svg></label><div class='xr-var-attrs'><dl class='xr-attrs'></dl></div><div class='xr-var-data'><pre>array([23.025   , 23.074999, 23.125   , ..., 37.875   , 37.925   , 37.975   ],\n",
       "      dtype=float32)</pre></div></li></ul></div></li><li class='xr-section-item'><input id='section-a3367dbc-a170-4e56-b53d-afbbdf7c1988' class='xr-section-summary-in' type='checkbox' disabled ><label for='section-a3367dbc-a170-4e56-b53d-afbbdf7c1988' class='xr-section-summary'  title='Expand/collapse section'>Attributes: <span>(0)</span></label><div class='xr-section-inline-details'></div><div class='xr-section-details'><dl class='xr-attrs'></dl></div></li></ul></div></div>"
      ],
      "text/plain": [
       "<xarray.DataArray 'SnowDepth_tavg' (time: 273, north_south: 300, east_west: 340)>\n",
       "array([[[False, False, False, ..., False, False, False],\n",
       "        [False, False, False, ..., False, False, False],\n",
       "        [False, False, False, ..., False, False, False],\n",
       "        ...,\n",
       "        [False, False, False, ..., False, False, False],\n",
       "        [False, False, False, ..., False, False, False],\n",
       "        [False, False, False, ..., False, False, False]],\n",
       "\n",
       "       [[False, False, False, ..., False, False, False],\n",
       "        [False, False, False, ..., False, False, False],\n",
       "        [False, False, False, ..., False, False, False],\n",
       "        ...,\n",
       "        [False, False, False, ..., False, False, False],\n",
       "        [False, False, False, ..., False, False, False],\n",
       "        [False, False, False, ..., False, False, False]],\n",
       "\n",
       "       [[False, False, False, ..., False, False, False],\n",
       "        [False, False, False, ..., False, False, False],\n",
       "        [False, False, False, ..., False, False, False],\n",
       "        ...,\n",
       "...\n",
       "        ...,\n",
       "        [False, False, False, ..., False, False, False],\n",
       "        [False, False, False, ..., False, False, False],\n",
       "        [False, False, False, ..., False, False, False]],\n",
       "\n",
       "       [[False, False, False, ..., False, False, False],\n",
       "        [False, False, False, ..., False, False, False],\n",
       "        [False, False, False, ..., False, False, False],\n",
       "        ...,\n",
       "        [False, False, False, ..., False, False, False],\n",
       "        [False, False, False, ..., False, False, False],\n",
       "        [False, False, False, ..., False, False, False]],\n",
       "\n",
       "       [[False, False, False, ..., False, False, False],\n",
       "        [False, False, False, ..., False, False, False],\n",
       "        [False, False, False, ..., False, False, False],\n",
       "        ...,\n",
       "        [False, False, False, ..., False, False, False],\n",
       "        [False, False, False, ..., False, False, False],\n",
       "        [False, False, False, ..., False, False, False]]])\n",
       "Coordinates:\n",
       "  * time         (time) datetime64[ns] 2016-10-01 2016-10-02 ... 2017-09-30\n",
       "  * east_west    (east_west) float32 66.02 66.08 66.12 ... 82.88 82.92 82.98\n",
       "  * north_south  (north_south) float32 23.02 23.07 23.12 ... 37.88 37.92 37.97"
      ]
     },
     "execution_count": 21,
     "metadata": {},
     "output_type": "execute_result"
    }
   ],
   "source": [
    "nor"
   ]
  },
  {
   "cell_type": "code",
   "execution_count": null,
   "metadata": {},
   "outputs": [],
   "source": []
  },
  {
   "cell_type": "code",
   "execution_count": 12,
   "metadata": {},
   "outputs": [
    {
     "name": "stderr",
     "output_type": "stream",
     "text": [
      "<ipython-input-12-97e242d77865>:1: MatplotlibDeprecationWarning: shading='flat' when X and Y have the same dimensions as C is deprecated since 3.3.  Either specify the corners of the quadrilaterals with X and Y, or pass shading='auto', 'nearest' or 'gouraud', or set rcParams['pcolor.shading'].  This will become an error two minor releases later.\n",
      "  plt.pcolor(normal.east_west, normal.north_south, normal.SnowDepth_tavg.count('time'))\n"
     ]
    },
    {
     "data": {
      "text/plain": [
       "<matplotlib.colorbar.Colorbar at 0x2af85896f0d0>"
      ]
     },
     "execution_count": 12,
     "metadata": {},
     "output_type": "execute_result"
    },
    {
     "data": {
      "image/png": "[encoded data removed]",
      "text/plain": [
       "<Figure size 432x288 with 2 Axes>"
      ]
     },
     "metadata": {
      "needs_background": "light"
     },
     "output_type": "display_data"
    }
   ],
   "source": [
    "\n",
    "plt.pcolor(normal.east_west, normal.north_south, normal.SnowDepth_tavg.count('time'))\n",
    "plt.title('Number of Syntehetic Observations')\n",
    "plt.colorbar()"
   ]
  },
  {
   "cell_type": "code",
   "execution_count": 44,
   "metadata": {},
   "outputs": [
    {
     "data": {
      "text/plain": [
       "<bound method Mapping.values of <xarray.Dataset>\n",
       "Dimensions:         ()\n",
       "Data variables:\n",
       "    SnowDepth_tavg  float32 5.357>"
      ]
     },
     "execution_count": 44,
     "metadata": {},
     "output_type": "execute_result"
    }
   ],
   "source": [
    "lognormal.max().values"
   ]
  },
  {
   "cell_type": "code",
   "execution_count": 19,
   "metadata": {},
   "outputs": [
    {
     "name": "stderr",
     "output_type": "stream",
     "text": [
      "<ipython-input-19-4dfb7393b654>:1: MatplotlibDeprecationWarning: shading='flat' when X and Y have the same dimensions as C is deprecated since 3.3.  Either specify the corners of the quadrilaterals with X and Y, or pass shading='auto', 'nearest' or 'gouraud', or set rcParams['pcolor.shading'].  This will become an error two minor releases later.\n",
      "  plt.pcolor(era5.east_west, era5.north_south, era5.max('time'), vmax = 5)\n"
     ]
    },
    {
     "data": {
      "text/plain": [
       "<matplotlib.colorbar.Colorbar at 0x2b8b5258e580>"
      ]
     },
     "execution_count": 19,
     "metadata": {},
     "output_type": "execute_result"
    },
    {
     "data": {
      "image/png": "[encoded data removed]",
      "text/plain": [
       "<Figure size 432x288 with 2 Axes>"
      ]
     },
     "metadata": {
      "needs_background": "light"
     },
     "output_type": "display_data"
    }
   ],
   "source": [
    "plt.pcolor(era5.east_west, era5.north_south, era5.max('time'), vmax = 5)\n",
    "plt.colorbar()\n",
    "plt.title('\"Tru\"')"
   ]
  },
  {
   "cell_type": "code",
   "execution_count": null,
   "metadata": {},
   "outputs": [],
   "source": []
  }
 ],
 "metadata": {
  "kernelspec": {
   "display_name": "reanalysis-kernel",
   "language": "python",
   "name": "reanalysis-kernel"
  },
  "language_info": {
   "codemirror_mode": {
    "name": "ipython",
    "version": 3
   },
   "file_extension": ".py",
   "mimetype": "text/x-python",
   "name": "python",
   "nbconvert_exporter": "python",
   "pygments_lexer": "ipython3",
   "version": "3.9.5"
  }
 },
 "nbformat": 4,
 "nbformat_minor": 2
}
