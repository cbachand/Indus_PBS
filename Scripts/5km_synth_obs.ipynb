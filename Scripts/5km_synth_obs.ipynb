{
 "cells": [
  {
   "cell_type": "code",
   "execution_count": 1,
   "metadata": {},
   "outputs": [],
   "source": [
    "import scipy\n",
    "import xarray as xr\n",
    "import numpy as np\n",
    "import matplotlib.pyplot as plt \n",
    "import scipy\n",
    "import math\n",
    "import matplotlib.patches as patches\n",
    "import pylab\n",
    "import shapely.geometry as geometry\n",
    "import pylab as plt\n",
    "from matplotlib.path import Path\n",
    "import scipy.stats"
   ]
  },
  {
   "cell_type": "code",
   "execution_count": 2,
   "metadata": {},
   "outputs": [],
   "source": [
    "import geopandas as gpd\n",
    "from matplotlib.path import Path\n"
   ]
  },
  {
   "cell_type": "code",
   "execution_count": 3,
   "metadata": {},
   "outputs": [],
   "source": [
    "from shapely.geometry import Polygon, Point, MultiPolygon\n",
    "import shapefile\n",
    "from matplotlib.path import Path"
   ]
  },
  {
   "cell_type": "markdown",
   "metadata": {},
   "source": [
    "Loading in \"Truth\" model run"
   ]
  },
  {
   "cell_type": "code",
   "execution_count": 5,
   "metadata": {},
   "outputs": [],
   "source": [
    "era5 = xr.open_dataset('truth_SD_2018.nc')"
   ]
  },
  {
   "cell_type": "markdown",
   "metadata": {},
   "source": [
    "Creating mask for the Indus basin"
   ]
  },
  {
   "cell_type": "code",
   "execution_count": 7,
   "metadata": {},
   "outputs": [
    {
     "data": {
      "image/png": "[encoded data removed]",
      "text/plain": [
       "<Figure size 432x288 with 1 Axes>"
      ]
     },
     "metadata": {
      "needs_background": "light"
     },
     "output_type": "display_data"
    }
   ],
   "source": [
    "polygon = shapefile.Reader(\"../files_for_pbs/basins_hma/basins_hma.shp\")\n",
    "polygon = polygon.shapes()\n",
    "indus = polygon[4]\n",
    "listx = []\n",
    "listy = []\n",
    "for xNew,yNew in indus.points:\n",
    "    listx.append(xNew)\n",
    "    listy.append(yNew)\n",
    "plt.plot(listx,listy)\n",
    "plt.show()\n",
    "listx = np.array(listx).reshape([837, 1])\n",
    "listy = np.array(listy).reshape([837, 1])\n",
    "coords = np.hstack([listx, listy])\n",
    "pp = coords.tolist()\n",
    "poly_path = Path(pp)"
   ]
  },
  {
   "cell_type": "code",
   "execution_count": 8,
   "metadata": {},
   "outputs": [],
   "source": [
    "listx = np.array(listx).reshape([837, 1])\n",
    "listy = np.array(listy).reshape([837, 1])\n",
    "coords = np.hstack([listx, listy])\n",
    "pp = coords.tolist()\n",
    "poly_path = Path(pp)"
   ]
  },
  {
   "cell_type": "code",
   "execution_count": 9,
   "metadata": {},
   "outputs": [],
   "source": [
    "lon = era5.east_west\n",
    "lat = era5.north_south"
   ]
  },
  {
   "cell_type": "code",
   "execution_count": 10,
   "metadata": {},
   "outputs": [],
   "source": [
    "lon = era5.east_west\n",
    "lat = era5.north_south\n",
    "x, y = np.meshgrid(lon, lat)\n",
    "coors_grid = np.hstack((x.reshape(-1, 1), y.reshape(-1, 1)))\n",
    "era5_mask = poly_path.contains_points(coors_grid)\n",
    "era5_mask = era5_mask.reshape(len(lat), len(lon))"
   ]
  },
  {
   "cell_type": "markdown",
   "metadata": {},
   "source": [
    "Reading in the sentinel data. Wet snow mask is not applied."
   ]
  },
  {
   "cell_type": "code",
   "execution_count": 11,
   "metadata": {},
   "outputs": [],
   "source": [
    "sentinel = xr.open_mfdataset('../Sentinel_data/HMA_sentinel_largeres3/*.nc', combine =  'nested', concat_dim = 'time')"
   ]
  },
  {
   "cell_type": "code",
   "execution_count": 10,
   "metadata": {},
   "outputs": [],
   "source": [
    "sentinel.to_netcdf('INDUS_S1_obs.nc')"
   ]
  },
  {
   "cell_type": "code",
   "execution_count": 16,
   "metadata": {},
   "outputs": [],
   "source": [
    "sent_time = sentinel.time.values\n",
    "#delta = np.timedelta64(365, \"D\")\n",
    "#sent_time2017 = sent_time -delta"
   ]
  },
  {
   "cell_type": "code",
   "execution_count": 14,
   "metadata": {},
   "outputs": [],
   "source": [
    "sentinel = sentinel.load()"
   ]
  },
  {
   "cell_type": "code",
   "execution_count": 18,
   "metadata": {},
   "outputs": [],
   "source": [
    "era5 = era5.where(era5_mask)"
   ]
  },
  {
   "cell_type": "code",
   "execution_count": 19,
   "metadata": {},
   "outputs": [],
   "source": [
    "era5 = era5.SnowDepth_tavg"
   ]
  },
  {
   "cell_type": "markdown",
   "metadata": {},
   "source": [
    "Selecting days from the \"truth\" run that actually have S1 data"
   ]
  },
  {
   "cell_type": "code",
   "execution_count": 21,
   "metadata": {},
   "outputs": [],
   "source": [
    "era5_obs_SD = era5.sel(time= sent_time)\n",
    "#era5_obs_SD = era5_obs.SnowDepth_inst\n",
    "era5_obs_SD = era5_obs_SD.load()"
   ]
  },
  {
   "cell_type": "code",
   "execution_count": 23,
   "metadata": {},
   "outputs": [],
   "source": [
    "era5_obs_SD = era5_obs_SD.where(era5_obs_SD.max('time') > 0)"
   ]
  },
  {
   "cell_type": "markdown",
   "metadata": {},
   "source": [
    "Generating synthetic ovservations\n",
    "\n",
    "Iterates through each lat/lon point. For each point, selects the vector of data over time, and adds uncertainty.\n",
    "\n",
    "The uncertainty scales with snow depth"
   ]
  },
  {
   "cell_type": "code",
   "execution_count": 14,
   "metadata": {},
   "outputs": [],
   "source": [
    "#On August 31 I increased noise from 15% to 25% in response to revisions. "
   ]
  },
  {
   "cell_type": "code",
   "execution_count": 18,
   "metadata": {},
   "outputs": [],
   "source": [
    "for n in np.arange(len(era5_obs_SD.north_south)):\n",
    "    for e in np.arange(len(era5_obs_SD.east_west)):\n",
    "        north_south = era5_obs_SD.north_south[n]\n",
    "        east_west = era5_obs_SD.east_west[e]\n",
    "        sent_vect = sentinel.snd_upd.sel({'lon': east_west, 'lat': north_south}, method = 'nearest').values\n",
    "        era5 = era5_obs_SD.sel({'north_south': north_south, 'east_west': east_west}).values\n",
    "        sent_nans = sent_vect * 0 #creates mask of 0s and nans\n",
    "        #Adding noise to the observations\n",
    "        sd_vect = (sent_nans + era5 + 0.01) * 0.25 #Adding the nan mask here makes all S1 nans transfer to truth\n",
    "        rep_vect = era5 + np.random.normal(-0.01, sd_vect) #SD of nan -> nan\n",
    "        era5_obs_SD[:, n, e] = rep_vect"
   ]
  },
  {
   "cell_type": "code",
   "execution_count": 19,
   "metadata": {},
   "outputs": [],
   "source": [
    "# Setting any below zero observations to zero \n",
    "era5_obs_SDnozeros = era5_obs_SD.where((era5_obs_SD >= 0) | (np.isnan(era5_obs_SD)) ,0 )"
   ]
  },
  {
   "cell_type": "code",
   "execution_count": 20,
   "metadata": {},
   "outputs": [],
   "source": [
    "era5_obs_SDnozeros.to_netcdf('synth_obs_Mar3.nc')"
   ]
  },
  {
   "cell_type": "code",
   "execution_count": 27,
   "metadata": {},
   "outputs": [],
   "source": [
    "# Masking out wet snow observations \n",
    "obs_snow = xr.open_dataset('synth_obs_Mar3.nc')\n",
    "truth = xr.open_dataset('truth_SD_2018.nc')\n",
    "truth_snow = truth.SnowDepth_tavg\n",
    "truth_snow_fill = truth_snow.where(truth_snow.max('time') !=0, -1)\n",
    "truth_snow_fill = truth_snow_fill.where(~np.isnan(truth_snow), -1)\n",
    "dates_ind = truth_snow_fill.argmax('time')\n",
    "dates = truth_snow.time[dates_ind]\n",
    "truth_snow_past = truth_snow_fill.where(truth_snow_fill.time >= dates)\n",
    "date_none = truth_snow_past.argmin('time')\n",
    "dates_2 = truth_snow.time[date_none]\n",
    "truth_snow_mask = truth_snow_past.where(truth_snow_past.time < dates_2)\n",
    "dry_mask = np.isnan(truth_snow_mask)\n",
    "obs_snow = obs_snow.where(dry_mask)"
   ]
  },
  {
   "cell_type": "code",
   "execution_count": 29,
   "metadata": {},
   "outputs": [],
   "source": [
    "obs_snow.to_netcdf('synth_obs_Mar3wetsnow.nc')"
   ]
  },
  {
   "cell_type": "code",
   "execution_count": 4,
   "metadata": {},
   "outputs": [],
   "source": [
    "obs_snow = xr.open_dataset('synth_obs_Mar3wetsnow.nc')"
   ]
  }
 ],
 "metadata": {
  "kernelspec": {
   "display_name": "Python 3 (ipykernel)",
   "language": "python",
   "name": "python3"
  },
  "language_info": {
   "codemirror_mode": {
    "name": "ipython",
    "version": 3
   },
   "file_extension": ".py",
   "mimetype": "text/x-python",
   "name": "python",
   "nbconvert_exporter": "python",
   "pygments_lexer": "ipython3",
   "version": "3.13.1"
  }
 },
 "nbformat": 4,
 "nbformat_minor": 4
}
